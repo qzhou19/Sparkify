{
 "cells": [
  {
   "cell_type": "markdown",
   "metadata": {},
   "source": [
    "# Sparkify Project Workspace\n",
    "This workspace contains a tiny subset (128MB) of the full dataset available (12GB). Feel free to use this workspace to build your project, or to explore a smaller subset with Spark before deploying your cluster on the cloud. Instructions for setting up your Spark cluster is included in the last lesson of the Extracurricular Spark Course content.\n",
    "\n",
    "You can follow the steps below to guide your data analysis and model building portion of this project."
   ]
  },
  {
   "cell_type": "code",
   "execution_count": 1,
   "metadata": {},
   "outputs": [],
   "source": [
    "# import libraries\n",
    "from pyspark.sql import SparkSession\n",
    "from pyspark.sql.functions import isnan, when, count, col, udf, countDistinct, max, min, avg, desc\n",
    "from pyspark.sql.types import IntegerType, TimestampType, FloatType\n",
    "\n",
    "from pyspark.ml import Pipeline\n",
    "from pyspark.ml.classification import LogisticRegression\n",
    "from pyspark.ml.evaluation import MulticlassClassificationEvaluator\n",
    "from pyspark.ml.tuning import CrossValidator, ParamGridBuilder\n",
    "\n",
    "import datetime"
   ]
  },
  {
   "cell_type": "code",
   "execution_count": 2,
   "metadata": {},
   "outputs": [],
   "source": [
    "# create a Spark session\n",
    "spark = SparkSession.builder \\\n",
    "    .master(\"local\") \\\n",
    "    .appName(\"Creating Features\") \\\n",
    "    .getOrCreate()"
   ]
  },
  {
   "cell_type": "markdown",
   "metadata": {},
   "source": [
    "# Load and Clean Dataset\n",
    "In this workspace, the mini-dataset file is `mini_sparkify_event_data.json`. Load and clean the dataset, checking for invalid or missing data - for example, records without userids or sessionids. "
   ]
  },
  {
   "cell_type": "code",
   "execution_count": 58,
   "metadata": {},
   "outputs": [
    {
     "name": "stdout",
     "output_type": "stream",
     "text": [
      "root\n",
      " |-- artist: string (nullable = true)\n",
      " |-- auth: string (nullable = true)\n",
      " |-- firstName: string (nullable = true)\n",
      " |-- gender: string (nullable = true)\n",
      " |-- itemInSession: long (nullable = true)\n",
      " |-- lastName: string (nullable = true)\n",
      " |-- length: double (nullable = true)\n",
      " |-- level: string (nullable = true)\n",
      " |-- location: string (nullable = true)\n",
      " |-- method: string (nullable = true)\n",
      " |-- page: string (nullable = true)\n",
      " |-- registration: long (nullable = true)\n",
      " |-- sessionId: long (nullable = true)\n",
      " |-- song: string (nullable = true)\n",
      " |-- status: long (nullable = true)\n",
      " |-- ts: long (nullable = true)\n",
      " |-- userAgent: string (nullable = true)\n",
      " |-- userId: string (nullable = true)\n",
      "\n"
     ]
    }
   ],
   "source": [
    "datafile = \"mini_sparkify_event_data.json\"\n",
    "df = spark.read.json(datafile)\n",
    "df.printSchema()"
   ]
  },
  {
   "cell_type": "code",
   "execution_count": 4,
   "metadata": {},
   "outputs": [
    {
     "data": {
      "text/plain": [
       "[Row(artist='Martha Tilston', auth='Logged In', firstName='Colin', gender='M', itemInSession=50, lastName='Freeman', length=277.89016, level='paid', location='Bakersfield, CA', method='PUT', page='NextSong', registration=1538173362000, sessionId=29, song='Rockpools', status=200, ts=1538352117000, userAgent='Mozilla/5.0 (Windows NT 6.1; WOW64; rv:31.0) Gecko/20100101 Firefox/31.0', userId='30'),\n",
       " Row(artist='Five Iron Frenzy', auth='Logged In', firstName='Micah', gender='M', itemInSession=79, lastName='Long', length=236.09424, level='free', location='Boston-Cambridge-Newton, MA-NH', method='PUT', page='NextSong', registration=1538331630000, sessionId=8, song='Canada', status=200, ts=1538352180000, userAgent='\"Mozilla/5.0 (Windows NT 6.1; WOW64) AppleWebKit/537.36 (KHTML, like Gecko) Chrome/37.0.2062.103 Safari/537.36\"', userId='9'),\n",
       " Row(artist='Adam Lambert', auth='Logged In', firstName='Colin', gender='M', itemInSession=51, lastName='Freeman', length=282.8273, level='paid', location='Bakersfield, CA', method='PUT', page='NextSong', registration=1538173362000, sessionId=29, song='Time For Miracles', status=200, ts=1538352394000, userAgent='Mozilla/5.0 (Windows NT 6.1; WOW64; rv:31.0) Gecko/20100101 Firefox/31.0', userId='30')]"
      ]
     },
     "execution_count": 4,
     "metadata": {},
     "output_type": "execute_result"
    }
   ],
   "source": [
    "df.head(3)"
   ]
  },
  {
   "cell_type": "code",
   "execution_count": 59,
   "metadata": {},
   "outputs": [
    {
     "name": "stdout",
     "output_type": "stream",
     "text": [
      "+-----+\n",
      "|count|\n",
      "+-----+\n",
      "|  226|\n",
      "+-----+\n",
      "\n",
      "+-----+\n",
      "|count|\n",
      "+-----+\n",
      "| 2354|\n",
      "+-----+\n",
      "\n"
     ]
    }
   ],
   "source": [
    "df.agg(countDistinct(col(\"userID\")).alias(\"count\")).show()\n",
    "df.agg(countDistinct(col(\"sessionId\")).alias(\"count\")).show()"
   ]
  },
  {
   "cell_type": "code",
   "execution_count": 5,
   "metadata": {},
   "outputs": [
    {
     "name": "stdout",
     "output_type": "stream",
     "text": [
      "+------+----+---------+------+-------------+--------+------+-----+--------+------+----+------------+---------+-----+------+---+---------+------+\n",
      "|artist|auth|firstName|gender|itemInSession|lastName|length|level|location|method|page|registration|sessionId| song|status| ts|userAgent|userId|\n",
      "+------+----+---------+------+-------------+--------+------+-----+--------+------+----+------------+---------+-----+------+---+---------+------+\n",
      "| 58392|   0|     8346|  8346|            0|    8346| 58392|    0|    8346|     0|   0|        8346|        0|58392|     0|  0|     8346|     0|\n",
      "+------+----+---------+------+-------------+--------+------+-----+--------+------+----+------------+---------+-----+------+---+---------+------+\n",
      "\n"
     ]
    }
   ],
   "source": [
    "# Check missing\n",
    "df.select([count(when(isnan(c) | col(c).isNull(), c)).alias(c) for c in df.columns]).show()"
   ]
  },
  {
   "cell_type": "code",
   "execution_count": 6,
   "metadata": {},
   "outputs": [
    {
     "name": "stdout",
     "output_type": "stream",
     "text": [
      "+------+----+---------+------+-------------+--------+------+-----+--------+------+----+------------+---------+-----+------+---+---------+------+\n",
      "|artist|auth|firstName|gender|itemInSession|lastName|length|level|location|method|page|registration|sessionId| song|status| ts|userAgent|userId|\n",
      "+------+----+---------+------+-------------+--------+------+-----+--------+------+----+------------+---------+-----+------+---+---------+------+\n",
      "| 50046|   0|        0|     0|            0|       0| 50046|    0|       0|     0|   0|           0|        0|50046|     0|  0|        0|     0|\n",
      "+------+----+---------+------+-------------+--------+------+-----+--------+------+----+------------+---------+-----+------+---+---------+------+\n",
      "\n"
     ]
    }
   ],
   "source": [
    "# Based on missing counts, there are 2 types of info missing:\n",
    "# missing 58392: song/artist related info, this missing doesn't have direct impact for churn\n",
    "# missing 8346: missing user registration info, since it's predicting churn, an account needs to be established, so it's better to remove these records\n",
    "df = df.filter(df.registration.isNotNull())\n",
    "df.select([count(when(isnan(c) | col(c).isNull(), c)).alias(c) for c in df.columns]).show()"
   ]
  },
  {
   "cell_type": "code",
   "execution_count": 7,
   "metadata": {},
   "outputs": [
    {
     "name": "stdout",
     "output_type": "stream",
     "text": [
      "(278154, 18)\n"
     ]
    }
   ],
   "source": [
    "print((df.count(), len(df.columns)))"
   ]
  },
  {
   "cell_type": "markdown",
   "metadata": {},
   "source": [
    "# Exploratory Data Analysis\n",
    "When you're working with the full dataset, perform EDA by loading a small subset of the data and doing basic manipulations within Spark. In this workspace, you are already provided a small subset of data you can explore.\n",
    "\n",
    "### Define Churn\n",
    "\n",
    "Once you've done some preliminary analysis, create a column `Churn` to use as the label for your model. I suggest using the `Cancellation Confirmation` events to define your churn, which happen for both paid and free users. As a bonus task, you can also look into the `Downgrade` events.\n",
    "\n",
    "### Explore Data\n",
    "Once you've defined churn, perform some exploratory data analysis to observe the behavior for users who stayed vs users who churned. You can start by exploring aggregates on these two groups of users, observing how much of a specific action they experienced per a certain time unit or number of songs played."
   ]
  },
  {
   "cell_type": "code",
   "execution_count": 8,
   "metadata": {},
   "outputs": [
    {
     "name": "stdout",
     "output_type": "stream",
     "text": [
      "+--------------------+------+\n",
      "|                page| count|\n",
      "+--------------------+------+\n",
      "|              Cancel|    52|\n",
      "|Cancellation Conf...|    52|\n",
      "|    Submit Downgrade|    63|\n",
      "|      Submit Upgrade|   159|\n",
      "|               Error|   252|\n",
      "|       Save Settings|   310|\n",
      "|               About|   495|\n",
      "|             Upgrade|   499|\n",
      "|                Help|  1454|\n",
      "|            Settings|  1514|\n",
      "|           Downgrade|  2055|\n",
      "|         Thumbs Down|  2546|\n",
      "|              Logout|  3226|\n",
      "|         Roll Advert|  3933|\n",
      "|          Add Friend|  4277|\n",
      "|     Add to Playlist|  6526|\n",
      "|                Home| 10082|\n",
      "|           Thumbs Up| 12551|\n",
      "|            NextSong|228108|\n",
      "+--------------------+------+\n",
      "\n"
     ]
    }
   ],
   "source": [
    "df.groupBy('page').count().orderBy('count').show()"
   ]
  },
  {
   "cell_type": "code",
   "execution_count": 9,
   "metadata": {},
   "outputs": [
    {
     "name": "stdout",
     "output_type": "stream",
     "text": [
      "+------+---------+---------+------+-------------+--------+------+-----+--------------------+------+--------------------+-------------+---------+----+------+-------------+--------------------+------+\n",
      "|artist|     auth|firstName|gender|itemInSession|lastName|length|level|            location|method|                page| registration|sessionId|song|status|           ts|           userAgent|userId|\n",
      "+------+---------+---------+------+-------------+--------+------+-----+--------------------+------+--------------------+-------------+---------+----+------+-------------+--------------------+------+\n",
      "|  null|Cancelled|   Adriel|     M|          104| Mendoza|  null| paid|  Kansas City, MO-KS|   GET|Cancellation Conf...|1535623466000|      514|null|   200|1538943990000|\"Mozilla/5.0 (Mac...|    18|\n",
      "|  null|Cancelled|    Diego|     M|           56|   Mckee|  null| paid|Phoenix-Mesa-Scot...|   GET|Cancellation Conf...|1537167593000|      540|null|   200|1539033046000|\"Mozilla/5.0 (iPh...|    32|\n",
      "|  null|Cancelled|    Mason|     M|           10|    Hart|  null| free|  Corpus Christi, TX|   GET|Cancellation Conf...|1533157139000|      174|null|   200|1539318918000|\"Mozilla/5.0 (Mac...|   125|\n",
      "+------+---------+---------+------+-------------+--------+------+-----+--------------------+------+--------------------+-------------+---------+----+------+-------------+--------------------+------+\n",
      "only showing top 3 rows\n",
      "\n"
     ]
    }
   ],
   "source": [
    "# Find some cancel/churn users\n",
    "df.filter(df.page == 'Cancellation Confirmation').show(3)"
   ]
  },
  {
   "cell_type": "code",
   "execution_count": 10,
   "metadata": {},
   "outputs": [
    {
     "name": "stdout",
     "output_type": "stream",
     "text": [
      "+--------------------+-----+\n",
      "|                page|count|\n",
      "+--------------------+-----+\n",
      "|Cancellation Conf...|    1|\n",
      "|               About|    1|\n",
      "|         Thumbs Down|    1|\n",
      "|       Save Settings|    1|\n",
      "|              Cancel|    1|\n",
      "|                Help|    1|\n",
      "|           Downgrade|    3|\n",
      "|            Settings|    5|\n",
      "|              Logout|    7|\n",
      "|          Add Friend|   10|\n",
      "|     Add to Playlist|   14|\n",
      "|                Home|   19|\n",
      "|           Thumbs Up|   20|\n",
      "|            NextSong|  429|\n",
      "+--------------------+-----+\n",
      "\n"
     ]
    }
   ],
   "source": [
    "# Track 1 churn userid to see all events\n",
    "demo1 = df.filter(df.userId == 18)\n",
    "demo1.groupBy('page').count().orderBy('count').show()"
   ]
  },
  {
   "cell_type": "code",
   "execution_count": 11,
   "metadata": {},
   "outputs": [
    {
     "name": "stdout",
     "output_type": "stream",
     "text": [
      "+--------------------+-------------+-------------------+\n",
      "|                page|           ts|               Time|\n",
      "+--------------------+-------------+-------------------+\n",
      "|                Home|1538499917000|2018-10-02 12:05:17|\n",
      "|            Settings|1538500856000|2018-10-02 12:20:56|\n",
      "|            Settings|1538502021000|2018-10-02 12:40:21|\n",
      "|           Thumbs Up|1538503942000|2018-10-02 13:12:22|\n",
      "|           Thumbs Up|1538505045000|2018-10-02 13:30:45|\n",
      "|              Logout|1538506325000|2018-10-02 13:52:05|\n",
      "|                Home|1538506468000|2018-10-02 13:54:28|\n",
      "|     Add to Playlist|1538506989000|2018-10-02 14:03:09|\n",
      "|           Thumbs Up|1538510861000|2018-10-02 15:07:41|\n",
      "|           Thumbs Up|1538511199000|2018-10-02 15:13:19|\n",
      "|          Add Friend|1538512086000|2018-10-02 15:28:06|\n",
      "|          Add Friend|1538512087000|2018-10-02 15:28:07|\n",
      "|           Thumbs Up|1538512287000|2018-10-02 15:31:27|\n",
      "|           Thumbs Up|1538513832000|2018-10-02 15:57:12|\n",
      "|           Thumbs Up|1538515356000|2018-10-02 16:22:36|\n",
      "|                Home|1538517546000|2018-10-02 16:59:06|\n",
      "|                Home|1538517567000|2018-10-02 16:59:27|\n",
      "|              Logout|1538517819000|2018-10-02 17:03:39|\n",
      "|                Home|1538518184000|2018-10-02 17:09:44|\n",
      "|     Add to Playlist|1538520747000|2018-10-02 17:52:27|\n",
      "|     Add to Playlist|1538521130000|2018-10-02 17:58:50|\n",
      "|            Settings|1538523319000|2018-10-02 18:35:19|\n",
      "|           Thumbs Up|1538523361000|2018-10-02 18:36:01|\n",
      "|           Thumbs Up|1538549852000|2018-10-03 01:57:32|\n",
      "|           Thumbs Up|1538550570000|2018-10-03 02:09:30|\n",
      "|              Logout|1538554059000|2018-10-03 03:07:39|\n",
      "|                Home|1538554143000|2018-10-03 03:09:03|\n",
      "|     Add to Playlist|1538554360000|2018-10-03 03:12:40|\n",
      "|     Add to Playlist|1538554525000|2018-10-03 03:15:25|\n",
      "|           Thumbs Up|1538572729000|2018-10-03 08:18:49|\n",
      "|     Add to Playlist|1538576161000|2018-10-03 09:16:01|\n",
      "|                Home|1538580606000|2018-10-03 10:30:06|\n",
      "|              Logout|1538580776000|2018-10-03 10:32:56|\n",
      "|                Home|1538580843000|2018-10-03 10:34:03|\n",
      "|           Thumbs Up|1538581473000|2018-10-03 10:44:33|\n",
      "|     Add to Playlist|1538582402000|2018-10-03 11:00:02|\n",
      "|                Home|1538585623000|2018-10-03 11:53:43|\n",
      "|                Home|1538586493000|2018-10-03 12:08:13|\n",
      "|          Add Friend|1538586494000|2018-10-03 12:08:14|\n",
      "|          Add Friend|1538586495000|2018-10-03 12:08:15|\n",
      "|     Add to Playlist|1538589110000|2018-10-03 12:51:50|\n",
      "|               About|1538589516000|2018-10-03 12:58:36|\n",
      "|              Logout|1538729536000|2018-10-05 03:52:16|\n",
      "|                Home|1538729862000|2018-10-05 03:57:42|\n",
      "|              Logout|1538729863000|2018-10-05 03:57:43|\n",
      "|                Home|1538729892000|2018-10-05 03:58:12|\n",
      "|     Add to Playlist|1538734246000|2018-10-05 05:10:46|\n",
      "|     Add to Playlist|1538734493000|2018-10-05 05:14:53|\n",
      "|          Add Friend|1538735899000|2018-10-05 05:38:19|\n",
      "|                Home|1538736263000|2018-10-05 05:44:23|\n",
      "|     Add to Playlist|1538741544000|2018-10-05 07:12:24|\n",
      "|          Add Friend|1538741858000|2018-10-05 07:17:38|\n",
      "|          Add Friend|1538741859000|2018-10-05 07:17:39|\n",
      "|           Thumbs Up|1538744033000|2018-10-05 07:53:53|\n",
      "|                Home|1538747649000|2018-10-05 08:54:09|\n",
      "|           Thumbs Up|1538748314000|2018-10-05 09:05:14|\n",
      "|           Downgrade|1538749555000|2018-10-05 09:25:55|\n",
      "|          Add Friend|1538749729000|2018-10-05 09:28:49|\n",
      "|           Thumbs Up|1538750966000|2018-10-05 09:49:26|\n",
      "|           Thumbs Up|1538751849000|2018-10-05 10:04:09|\n",
      "|     Add to Playlist|1538752179000|2018-10-05 10:09:39|\n",
      "|                Help|1538752783000|2018-10-05 10:19:43|\n",
      "|                Home|1538753163000|2018-10-05 10:26:03|\n",
      "|           Thumbs Up|1538754709000|2018-10-05 10:51:49|\n",
      "|                Home|1538757526000|2018-10-05 11:38:46|\n",
      "|           Thumbs Up|1538923714000|2018-10-07 09:48:34|\n",
      "|     Add to Playlist|1538923920000|2018-10-07 09:52:00|\n",
      "|            Settings|1538926551000|2018-10-07 10:35:51|\n",
      "|       Save Settings|1538926552000|2018-10-07 10:35:52|\n",
      "|                Home|1538926692000|2018-10-07 10:38:12|\n",
      "|          Add Friend|1538926693000|2018-10-07 10:38:13|\n",
      "|     Add to Playlist|1538927866000|2018-10-07 10:57:46|\n",
      "|         Thumbs Down|1538929843000|2018-10-07 11:30:43|\n",
      "|           Thumbs Up|1538932386000|2018-10-07 12:13:06|\n",
      "|            Settings|1538933022000|2018-10-07 12:23:42|\n",
      "|           Downgrade|1538935253000|2018-10-07 13:00:53|\n",
      "|              Logout|1538935254000|2018-10-07 13:00:54|\n",
      "|                Home|1538935378000|2018-10-07 13:02:58|\n",
      "|                Home|1538937553000|2018-10-07 13:39:13|\n",
      "|          Add Friend|1538938728000|2018-10-07 13:58:48|\n",
      "|           Thumbs Up|1538939387000|2018-10-07 14:09:47|\n",
      "|           Downgrade|1538943739000|2018-10-07 15:22:19|\n",
      "|              Cancel|1538943740000|2018-10-07 15:22:20|\n",
      "|Cancellation Conf...|1538943990000|2018-10-07 15:26:30|\n",
      "+--------------------+-------------+-------------------+\n",
      "\n"
     ]
    }
   ],
   "source": [
    "# Track the time trend\n",
    "\n",
    "# Convert TS\n",
    "convert_ts = udf(lambda x: datetime.datetime.fromtimestamp(x / 1000.0), TimestampType())\n",
    "demo1 = demo1.withColumn(\"Time\", convert_ts(demo1.ts))\n",
    "\n",
    "# Check Events                 \n",
    "demo1.filter(~demo1.page.isin(['NextSong'])).select('page', 'ts', 'Time').show(100)"
   ]
  },
  {
   "cell_type": "markdown",
   "metadata": {},
   "source": [
    "### Based on concellation confirmation happened last, assuming each userID churn can be defined by the occurance of 'cancel'\n",
    "### In other words, this analysis will not consider time relation of events, also not considering returned (previous cancelled) user"
   ]
  },
  {
   "cell_type": "code",
   "execution_count": 12,
   "metadata": {},
   "outputs": [
    {
     "name": "stdout",
     "output_type": "stream",
     "text": [
      "+--------------------+-------------+-------------------+-----+\n",
      "|                page|           ts|               Time|churn|\n",
      "+--------------------+-------------+-------------------+-----+\n",
      "|                Home|1538499917000|2018-10-02 12:05:17|    0|\n",
      "|            Settings|1538500856000|2018-10-02 12:20:56|    0|\n",
      "|            Settings|1538502021000|2018-10-02 12:40:21|    0|\n",
      "|                Home|1538506468000|2018-10-02 13:54:28|    0|\n",
      "|                Home|1538517546000|2018-10-02 16:59:06|    0|\n",
      "|                Home|1538517567000|2018-10-02 16:59:27|    0|\n",
      "|                Home|1538518184000|2018-10-02 17:09:44|    0|\n",
      "|            Settings|1538523319000|2018-10-02 18:35:19|    0|\n",
      "|                Home|1538554143000|2018-10-03 03:09:03|    0|\n",
      "|                Home|1538580606000|2018-10-03 10:30:06|    0|\n",
      "|                Home|1538580843000|2018-10-03 10:34:03|    0|\n",
      "|                Home|1538585623000|2018-10-03 11:53:43|    0|\n",
      "|                Home|1538586493000|2018-10-03 12:08:13|    0|\n",
      "|                Home|1538729862000|2018-10-05 03:57:42|    0|\n",
      "|                Home|1538729892000|2018-10-05 03:58:12|    0|\n",
      "|                Home|1538736263000|2018-10-05 05:44:23|    0|\n",
      "|                Home|1538747649000|2018-10-05 08:54:09|    0|\n",
      "|                Home|1538753163000|2018-10-05 10:26:03|    0|\n",
      "|                Home|1538757526000|2018-10-05 11:38:46|    0|\n",
      "|            Settings|1538926551000|2018-10-07 10:35:51|    0|\n",
      "|                Home|1538926692000|2018-10-07 10:38:12|    0|\n",
      "|            Settings|1538933022000|2018-10-07 12:23:42|    0|\n",
      "|                Home|1538935378000|2018-10-07 13:02:58|    0|\n",
      "|                Home|1538937553000|2018-10-07 13:39:13|    0|\n",
      "|Cancellation Conf...|1538943990000|2018-10-07 15:26:30|    1|\n",
      "+--------------------+-------------+-------------------+-----+\n",
      "\n"
     ]
    }
   ],
   "source": [
    "# Tag churn transaction\n",
    "def_churn = udf(lambda x: 1 if x=='Cancellation Confirmation' else 0, IntegerType())\n",
    "demo1 = demo1.withColumn(\"Churn\", def_churn(demo1.page))\n",
    "\n",
    "# Check results                 \n",
    "demo1.filter(demo1.page.isin(['Cancellation Confirmation', 'Home', 'Settings'])).select('page', 'ts', 'Time', 'churn').show(100)"
   ]
  },
  {
   "cell_type": "code",
   "execution_count": 13,
   "metadata": {},
   "outputs": [
    {
     "data": {
      "text/plain": [
       "Row(artist='Martha Tilston', auth='Logged In', firstName='Colin', gender='M', itemInSession=50, lastName='Freeman', length=277.89016, level='paid', location='Bakersfield, CA', method='PUT', page='NextSong', registration=1538173362000, sessionId=29, song='Rockpools', status=200, ts=1538352117000, userAgent='Mozilla/5.0 (Windows NT 6.1; WOW64; rv:31.0) Gecko/20100101 Firefox/31.0', userId='30', Time=datetime.datetime(2018, 9, 30, 19, 1, 57), Churn=0)"
      ]
     },
     "execution_count": 13,
     "metadata": {},
     "output_type": "execute_result"
    }
   ],
   "source": [
    "# Apply the created column to the whole dataset - Tag churn transaction\n",
    "df = df.withColumn(\"Time\", convert_ts(df.ts))\n",
    "df = df.withColumn(\"Churn\", def_churn(df.page))\n",
    "df.head()"
   ]
  },
  {
   "cell_type": "code",
   "execution_count": 14,
   "metadata": {},
   "outputs": [],
   "source": [
    "# Tag churn for all transactions for user id that churned\n",
    "\n",
    "# create churn and non-churn\n",
    "churn_id = df.filter(df.Churn==1).select('userId')\n",
    "churn_list = [row['userId'] for row in churn_id.collect()]\n",
    "df = df.withColumn(\"ID_Churn\", when(col('userId').isin(churn_list), 1).otherwise(0))"
   ]
  },
  {
   "cell_type": "code",
   "execution_count": 15,
   "metadata": {},
   "outputs": [
    {
     "name": "stdout",
     "output_type": "stream",
     "text": [
      "+--------------------+---------+---------+------+-------------+--------+---------+-----+------------------+------+--------+-------------+---------+--------------------+------+-------------+--------------------+------+-------------------+-----+--------+\n",
      "|              artist|     auth|firstName|gender|itemInSession|lastName|   length|level|          location|method|    page| registration|sessionId|                song|status|           ts|           userAgent|userId|               Time|Churn|ID_Churn|\n",
      "+--------------------+---------+---------+------+-------------+--------+---------+-----+------------------+------+--------+-------------+---------+--------------------+------+-------------+--------------------+------+-------------------+-----+--------+\n",
      "|                null|Logged In|   Adriel|     M|            0| Mendoza|     null| paid|Kansas City, MO-KS|   GET|    Home|1535623466000|      242|                null|   200|1538499917000|\"Mozilla/5.0 (Mac...|    18|2018-10-02 12:05:17|    0|       1|\n",
      "|Mike And The Mech...|Logged In|   Adriel|     M|            1| Mendoza|275.12118| paid|Kansas City, MO-KS|   PUT|NextSong|1535623466000|      242|A Beggar On A Bea...|   200|1538499933000|\"Mozilla/5.0 (Mac...|    18|2018-10-02 12:05:33|    0|       1|\n",
      "|  Taking Back Sunday|Logged In|   Adriel|     M|            2| Mendoza|268.32934| paid|Kansas City, MO-KS|   PUT|NextSong|1535623466000|      242|...slowdance On T...|   200|1538500208000|\"Mozilla/5.0 (Mac...|    18|2018-10-02 12:10:08|    0|       1|\n",
      "|              Beirut|Logged In|   Adriel|     M|            3| Mendoza|178.72934| paid|Kansas City, MO-KS|   PUT|NextSong|1535623466000|      242|       St. Apollonia|   200|1538500476000|\"Mozilla/5.0 (Mac...|    18|2018-10-02 12:14:36|    0|       1|\n",
      "|         Bob Log III|Logged In|   Adriel|     M|            4| Mendoza|188.76036| paid|Kansas City, MO-KS|   PUT|NextSong|1535623466000|      242|      Drunk Stripper|   200|1538500654000|\"Mozilla/5.0 (Mac...|    18|2018-10-02 12:17:34|    0|       1|\n",
      "+--------------------+---------+---------+------+-------------+--------+---------+-----+------------------+------+--------+-------------+---------+--------------------+------+-------------+--------------------+------+-------------------+-----+--------+\n",
      "only showing top 5 rows\n",
      "\n"
     ]
    }
   ],
   "source": [
    "# checking ID tags\n",
    "df.filter(df.userId == 18).show(5)"
   ]
  },
  {
   "cell_type": "markdown",
   "metadata": {},
   "source": [
    "### Exploring"
   ]
  },
  {
   "cell_type": "code",
   "execution_count": 16,
   "metadata": {},
   "outputs": [
    {
     "name": "stdout",
     "output_type": "stream",
     "text": [
      "+--------+------+\n",
      "|ID_Churn| count|\n",
      "+--------+------+\n",
      "|       1| 44864|\n",
      "|       0|233290|\n",
      "+--------+------+\n",
      "\n"
     ]
    }
   ],
   "source": [
    "# Check transaction counts\n",
    "df.groupBy('ID_Churn').count().show()"
   ]
  },
  {
   "cell_type": "code",
   "execution_count": 17,
   "metadata": {
    "scrolled": true
   },
   "outputs": [
    {
     "name": "stdout",
     "output_type": "stream",
     "text": [
      "+-----+\n",
      "|count|\n",
      "+-----+\n",
      "|   52|\n",
      "+-----+\n",
      "\n",
      "+-----+\n",
      "|count|\n",
      "+-----+\n",
      "|  173|\n",
      "+-----+\n",
      "\n"
     ]
    }
   ],
   "source": [
    "# Check unique Usder ID count\n",
    "df.filter(df.ID_Churn==1).agg(countDistinct(col(\"userID\")).alias(\"count\")).show()\n",
    "df.filter(df.ID_Churn==0).agg(countDistinct(col(\"userID\")).alias(\"count\")).show()"
   ]
  },
  {
   "cell_type": "markdown",
   "metadata": {},
   "source": [
    "### Even transaction churn/non-churn is about 1:5, unique ID churn/non-churn is only about 1:3, so averge user activity(page count) count could be an indicator"
   ]
  },
  {
   "cell_type": "code",
   "execution_count": 18,
   "metadata": {},
   "outputs": [
    {
     "name": "stdout",
     "output_type": "stream",
     "text": [
      "+--------------------+-----+\n",
      "|                page|count|\n",
      "+--------------------+-----+\n",
      "|    Submit Downgrade|    9|\n",
      "|               Error|   32|\n",
      "|      Submit Upgrade|   32|\n",
      "|Cancellation Conf...|   52|\n",
      "|              Cancel|   52|\n",
      "|               About|   56|\n",
      "|       Save Settings|   58|\n",
      "|             Upgrade|  112|\n",
      "|                Help|  239|\n",
      "|            Settings|  270|\n",
      "|           Downgrade|  337|\n",
      "|         Thumbs Down|  496|\n",
      "|              Logout|  553|\n",
      "|          Add Friend|  636|\n",
      "|         Roll Advert|  967|\n",
      "|     Add to Playlist| 1038|\n",
      "|                Home| 1672|\n",
      "|           Thumbs Up| 1859|\n",
      "|            NextSong|36394|\n",
      "+--------------------+-----+\n",
      "\n",
      "+----------------+------+\n",
      "|            page| count|\n",
      "+----------------+------+\n",
      "|Submit Downgrade|    54|\n",
      "|  Submit Upgrade|   127|\n",
      "|           Error|   220|\n",
      "|   Save Settings|   252|\n",
      "|         Upgrade|   387|\n",
      "|           About|   439|\n",
      "|            Help|  1215|\n",
      "|        Settings|  1244|\n",
      "|       Downgrade|  1718|\n",
      "|     Thumbs Down|  2050|\n",
      "|          Logout|  2673|\n",
      "|     Roll Advert|  2966|\n",
      "|      Add Friend|  3641|\n",
      "| Add to Playlist|  5488|\n",
      "|            Home|  8410|\n",
      "|       Thumbs Up| 10692|\n",
      "|        NextSong|191714|\n",
      "+----------------+------+\n",
      "\n"
     ]
    }
   ],
   "source": [
    "# Check overall page activity type\n",
    "df.filter(df.ID_Churn==1).select('page').groupBy('page').count().orderBy('count').show()\n",
    "df.filter(df.ID_Churn==0).select('page').groupBy('page').count().orderBy('count').show()"
   ]
  },
  {
   "cell_type": "markdown",
   "metadata": {},
   "source": [
    "### Nothing stands out here by count or percentage (not shown), probably needs to aggregate per UserID to see more"
   ]
  },
  {
   "cell_type": "code",
   "execution_count": 19,
   "metadata": {},
   "outputs": [
    {
     "name": "stdout",
     "output_type": "stream",
     "text": [
      "+--------+------+------+\n",
      "|ID_Churn|gender| count|\n",
      "+--------+------+------+\n",
      "|       1|     F| 19168|\n",
      "|       1|     M| 25696|\n",
      "|       0|     M| 97880|\n",
      "|       0|     F|135410|\n",
      "+--------+------+------+\n",
      "\n",
      "+--------+-----+------+\n",
      "|ID_Churn|level| count|\n",
      "+--------+-----+------+\n",
      "|       1| free| 12388|\n",
      "|       1| paid| 32476|\n",
      "|       0| free| 43333|\n",
      "|       0| paid|189957|\n",
      "+--------+-----+------+\n",
      "\n",
      "+-------+------------------+\n",
      "|summary|     itemInSession|\n",
      "+-------+------------------+\n",
      "|  count|             44864|\n",
      "|   mean|109.23299304564907|\n",
      "| stddev|122.72170867995432|\n",
      "|    min|                 0|\n",
      "|    25%|                26|\n",
      "|    50%|                66|\n",
      "|    75%|               147|\n",
      "|    max|               889|\n",
      "+-------+------------------+\n",
      "\n",
      "+-------+------------------+\n",
      "|summary|     itemInSession|\n",
      "+-------+------------------+\n",
      "|  count|            233290|\n",
      "|   mean| 115.9888465000643|\n",
      "| stddev|131.15066994654808|\n",
      "|    min|                 0|\n",
      "|    25%|                27|\n",
      "|    50%|                71|\n",
      "|    75%|               159|\n",
      "|    max|              1321|\n",
      "+-------+------------------+\n",
      "\n",
      "+-------+------------------+\n",
      "|summary|            length|\n",
      "+-------+------------------+\n",
      "|  count|             36394|\n",
      "|   mean|248.63279564406366|\n",
      "| stddev|102.38497717575474|\n",
      "|    min|           4.04853|\n",
      "|    25%|          199.3922|\n",
      "|    50%|         233.89995|\n",
      "|    75%|         275.59138|\n",
      "|    max|        3024.66567|\n",
      "+-------+------------------+\n",
      "\n",
      "+-------+------------------+\n",
      "|summary|            length|\n",
      "+-------+------------------+\n",
      "|  count|            191714|\n",
      "|   mean|249.20913538881427|\n",
      "| stddev|  98.6258830014688|\n",
      "|    min|           0.78322|\n",
      "|    25%|         199.94077|\n",
      "|    50%|         234.65751|\n",
      "|    75%|         277.15873|\n",
      "|    max|        3024.66567|\n",
      "+-------+------------------+\n",
      "\n"
     ]
    }
   ],
   "source": [
    "# Check other potential attributes that looks promising\n",
    "df.select('ID_Churn', 'gender').groupBy('ID_Churn', 'gender').count().orderBy('count').show()\n",
    "df.select('ID_Churn', 'level').groupBy('ID_Churn', 'level').count().orderBy('count').show()\n",
    "df.filter(df.ID_Churn==1).select('itemInSession').summary().show()\n",
    "df.filter(df.ID_Churn==0).select('itemInSession').summary().show()\n",
    "df.filter(df.ID_Churn==1).select('length').summary().show()\n",
    "df.filter(df.ID_Churn==0).select('length').summary().show()"
   ]
  },
  {
   "cell_type": "markdown",
   "metadata": {},
   "source": [
    "### Gender, Level and itemInSession looks promising, length doesn't matter for churn"
   ]
  },
  {
   "cell_type": "markdown",
   "metadata": {},
   "source": [
    "# Feature Engineering\n",
    "Once you've familiarized yourself with the data, build out the features you find promising to train your model on. To work with the full dataset, you can follow the following steps.\n",
    "- Write a script to extract the necessary features from the smaller subset of data\n",
    "- Ensure that your script is scalable, using the best practices discussed in Lesson 3\n",
    "- Try your script on the full data set, debugging your script if necessary\n",
    "\n",
    "If you are working in the classroom workspace, you can just extract features based on the small subset of data contained here. Be sure to transfer over this work to the larger dataset when you work on your Spark cluster."
   ]
  },
  {
   "cell_type": "markdown",
   "metadata": {},
   "source": [
    "### Create transactional feature tag"
   ]
  },
  {
   "cell_type": "code",
   "execution_count": 210,
   "metadata": {},
   "outputs": [],
   "source": [
    "# Create features based on page info\n",
    "p1 = udf(lambda x: 1 if x=='Add Friend' else 0, IntegerType())\n",
    "p2 = udf(lambda x: 1 if x=='Add to Playlist' else 0, IntegerType())\n",
    "p3 = udf(lambda x: 1 if x=='Downgrade' else 0, IntegerType())\n",
    "p4 = udf(lambda x: 1 if x=='Upgrade' else 0, IntegerType())\n",
    "p5 = udf(lambda x: 1 if x=='Error' else 0, IntegerType())\n",
    "p6 = udf(lambda x: 1 if x=='Help' else 0, IntegerType())\n",
    "p7 = udf(lambda x: 1 if x=='Home' else 0, IntegerType())\n",
    "p8 = udf(lambda x: 1 if x=='Thumbs Up' else 0, IntegerType())\n",
    "p9 = udf(lambda x: 1 if x=='Thumbs Down' else 0, IntegerType())\n",
    "\n",
    "# Gender\n",
    "f1 = udf(lambda x: 1 if x=='F' else 0, IntegerType())\n",
    "# Level\n",
    "f2 = udf(lambda x: 1 if x=='paid' else 0, IntegerType())"
   ]
  },
  {
   "cell_type": "code",
   "execution_count": 211,
   "metadata": {},
   "outputs": [],
   "source": [
    "df = df.withColumn(\"AF\", p1(df.page))\n",
    "df = df.withColumn(\"AP\", p2(df.page))\n",
    "df = df.withColumn(\"DN\", p3(df.page))\n",
    "df = df.withColumn(\"UP\", p4(df.page))\n",
    "df = df.withColumn(\"ER\", p5(df.page))\n",
    "df = df.withColumn(\"HP\", p6(df.page))\n",
    "df = df.withColumn(\"HM\", p7(df.page))\n",
    "df = df.withColumn(\"TU\", p8(df.page))\n",
    "df = df.withColumn(\"TD\", p9(df.page))\n",
    "df = df.withColumn(\"Female\", f1(df.gender))\n",
    "df = df.withColumn(\"Paid\", f2(df.level))"
   ]
  },
  {
   "cell_type": "markdown",
   "metadata": {},
   "source": [
    "### Aggregate to create user id level data"
   ]
  },
  {
   "cell_type": "code",
   "execution_count": 212,
   "metadata": {},
   "outputs": [],
   "source": [
    "df.createOrReplaceTempView(\"df_table\")"
   ]
  },
  {
   "cell_type": "markdown",
   "metadata": {},
   "source": [
    "### A few notes about created features:  \n",
    "* For page type, it's for different activity distribution, here just do simple count of special events and total event, later normalization should take care of scaling part  \n",
    "* Female should be the same per User ID, nothing to aggregate\n",
    "* Item in session is taking the user averge\n",
    "* pay level is a little complicated, because a user can go from pay to free then go back and so forth, since there is no time tracking here, it will count the transaction pecentage when leve is paid\n",
    "* song/artist info is not considered because it's probably not related to churn \n",
    "* session id is not considered, technically we could use the unique count, then it will be strongly correlated with ts, since time is not factored here, this info is ignored to avoid complication"
   ]
  },
  {
   "cell_type": "code",
   "execution_count": 213,
   "metadata": {},
   "outputs": [
    {
     "data": {
      "text/plain": [
       "[Row(userId='75', label=0, Female=1, PayRate=1.0, AFC=21, APC=27, DNC=8, UPC=0, ERC=1, HPC=2, HMC=22, TUC=48, TDC=4, TOTALC=957, AVG_ITEM=120.0),\n",
       " Row(userId='4', label=0, Female=0, PayRate=0.9422604422604423, AFC=46, APC=59, DNC=21, UPC=4, ERC=4, HPC=12, HMC=80, TUC=95, TDC=26, TOTALC=2442, AVG_ITEM=152.15233415233416),\n",
       " Row(userId='200002', label=0, Female=0, PayRate=0.7468354430379747, AFC=4, APC=8, DNC=5, UPC=2, ERC=0, HPC=2, HMC=20, TUC=21, TDC=6, TOTALC=474, AVG_ITEM=60.57805907172996),\n",
       " Row(userId='16', label=0, Female=1, PayRate=0.8021978021978022, AFC=10, APC=19, DNC=7, UPC=3, ERC=0, HPC=8, HMC=26, TUC=42, TDC=4, TOTALC=819, AVG_ITEM=77.16483516483517),\n",
       " Row(userId='119', label=0, Female=1, PayRate=0.0, AFC=4, APC=5, DNC=0, UPC=2, ERC=1, HPC=3, HMC=11, TUC=7, TDC=1, TOTALC=223, AVG_ITEM=27.771300448430495)]"
      ]
     },
     "execution_count": 213,
     "metadata": {},
     "output_type": "execute_result"
    }
   ],
   "source": [
    "df2 = spark.sql('''\n",
    "          SELECT DISTINCT userId, ID_Churn AS label, Female,\n",
    "          SUM(Paid)/COUNT(*) AS PayRate,\n",
    "          SUM(AF) AS AFC, SUM(AP) AS APC, SUM(DN) AS DNC, SUM(UP) AS UPC,\n",
    "          SUM(ER) AS ERC, SUM(HP) AS HPC, SUM(HM) AS HMC, SUM(TU) AS TUC, SUM(TD) AS TDC,\n",
    "          COUNT(*) AS TOTALC,\n",
    "          AVG(itemInSession) AS AVG_ITEM\n",
    "          FROM df_table\n",
    "          GROUP BY userID, ID_Churn, Female\n",
    "          '''\n",
    "          )\n",
    "df2.head(5)"
   ]
  },
  {
   "cell_type": "code",
   "execution_count": 197,
   "metadata": {},
   "outputs": [
    {
     "data": {
      "text/plain": [
       "[Row(userId='95', label=0, Female=1, AFC=32, APC=46, DNC=15, UPC=5, ERC=5, HPC=18, HMC=67, TMC=116, TOTALC=2091, AVG_ITEM=85.11908177905309, Features=DenseVector([32.0, 46.0, 15.0, 5.0, 5.0, 18.0, 67.0, 116.0, 2091.0, 85.1191]), ScaledFeatures=DenseVector([0.0153, 0.0219, 0.0071, 0.0024, 0.0024, 0.0086, 0.0319, 0.0553, 0.9967, 0.0406])),\n",
       " Row(userId='200024', label=1, Female=0, AFC=9, APC=15, DNC=4, UPC=5, ERC=1, HPC=4, HMC=21, TMC=32, TOTALC=552, AVG_ITEM=55.45289855072464, Features=DenseVector([9.0, 15.0, 4.0, 5.0, 1.0, 4.0, 21.0, 32.0, 552.0, 55.4529]), ScaledFeatures=DenseVector([0.0162, 0.027, 0.0072, 0.009, 0.0018, 0.0072, 0.0377, 0.0575, 0.992, 0.0997])),\n",
       " Row(userId='87', label=1, Female=0, AFC=27, APC=19, DNC=1, UPC=7, ERC=0, HPC=8, HMC=56, TMC=37, TOTALC=1003, AVG_ITEM=33.90628115653041, Features=DenseVector([27.0, 19.0, 1.0, 7.0, 0.0, 8.0, 56.0, 37.0, 1003.0, 33.9063]), ScaledFeatures=DenseVector([0.0268, 0.0189, 0.001, 0.007, 0.0, 0.0079, 0.0556, 0.0368, 0.9966, 0.0337])),\n",
       " Row(userId='9', label=0, Female=0, AFC=40, APC=77, DNC=32, UPC=6, ERC=3, HPC=15, HMC=117, TMC=150, TOTALC=3191, AVG_ITEM=79.09088060169226, Features=DenseVector([40.0, 77.0, 32.0, 6.0, 3.0, 15.0, 117.0, 150.0, 3191.0, 79.0909]), ScaledFeatures=DenseVector([0.0125, 0.0241, 0.01, 0.0019, 0.0009, 0.0047, 0.0366, 0.0469, 0.9975, 0.0247])),\n",
       " Row(userId='148', label=0, Female=0, AFC=7, APC=5, DNC=0, UPC=3, ERC=0, HPC=3, HMC=26, TMC=31, TOTALC=518, AVG_ITEM=45.08687258687259, Features=DenseVector([7.0, 5.0, 0.0, 3.0, 0.0, 3.0, 26.0, 31.0, 518.0, 45.0869]), ScaledFeatures=DenseVector([0.0134, 0.0096, 0.0, 0.0058, 0.0, 0.0058, 0.0498, 0.0594, 0.9931, 0.0864]))]"
      ]
     },
     "execution_count": 197,
     "metadata": {},
     "output_type": "execute_result"
    }
   ],
   "source": [
    "df2 = assembler.transform(df2)\n",
    "df2 = scaler.transform(df2)\n",
    "df2.head(5)"
   ]
  },
  {
   "cell_type": "code",
   "execution_count": null,
   "metadata": {},
   "outputs": [],
   "source": []
  },
  {
   "cell_type": "markdown",
   "metadata": {},
   "source": [
    "# Modeling\n",
    "Split the full dataset into train, test, and validation sets. Test out several of the machine learning methods you learned. Evaluate the accuracy of the various models, tuning parameters as necessary. Determine your winning model based on test accuracy and report results on the validation set. Since the churned users are a fairly small subset, I suggest using F1 score as the metric to optimize."
   ]
  },
  {
   "cell_type": "code",
   "execution_count": 216,
   "metadata": {},
   "outputs": [],
   "source": [
    "train, test = df2.randomSplit([0.8, 0.2], seed=12345)"
   ]
  },
  {
   "cell_type": "code",
   "execution_count": 221,
   "metadata": {},
   "outputs": [],
   "source": [
    "# Building pipeline\n",
    "\n",
    "assembler = VectorAssembler(inputCols=['AFC', 'APC', 'DNC', 'UPC', 'ERC', 'HPC', 'HMC', 'TUC', 'TDC', 'TOTALC', 'Female', 'AVG_ITEM', 'PayRate'], outputCol=\"Features\")\n",
    "scaler = Normalizer(inputCol=\"Features\", outputCol=\"features\")\n",
    "lr =  LogisticRegression(maxIter=10, regParam=0.0, elasticNetParam=0)\n",
    "\n",
    "pipeline = Pipeline(stages=[assembler, scaler, lr])"
   ]
  },
  {
   "cell_type": "code",
   "execution_count": 255,
   "metadata": {},
   "outputs": [],
   "source": [
    "# Cross Validation\n",
    "paramGrid = ParamGridBuilder() \\\n",
    "    .addGrid(lr.regParam, [0.0, 0.1, 0.2]) \\\n",
    "    .build()\n",
    "\n",
    "\n",
    "crossval = CrossValidator(estimator=pipeline,\n",
    "                          estimatorParamMaps=paramGrid,\n",
    "                          evaluator=MulticlassClassificationEvaluator(),\n",
    "                          numFolds=3)"
   ]
  },
  {
   "cell_type": "code",
   "execution_count": 254,
   "metadata": {},
   "outputs": [
    {
     "data": {
      "text/plain": [
       "[0.6945538736001492,\n",
       " 0.6883597883597884,\n",
       " 0.6883597883597884,\n",
       " 0.6923094565874682,\n",
       " 0.6883597883597884,\n",
       " 0.6883597883597884,\n",
       " 0.7089908342218036,\n",
       " 0.6902631435990298,\n",
       " 0.680184250219301,\n",
       " 0.7046613307711479,\n",
       " 0.7046613307711479,\n",
       " 0.6902631435990298]"
      ]
     },
     "execution_count": 254,
     "metadata": {},
     "output_type": "execute_result"
    }
   ],
   "source": [
    "m1.avgMetrics"
   ]
  },
  {
   "cell_type": "code",
   "execution_count": 256,
   "metadata": {},
   "outputs": [],
   "source": [
    "m1 = crossval.fit(train)"
   ]
  },
  {
   "cell_type": "code",
   "execution_count": 257,
   "metadata": {},
   "outputs": [],
   "source": [
    "# Scoring test and train data\n",
    "results = m1.transform(test)\n",
    "train_results = m1.transform(train)"
   ]
  },
  {
   "cell_type": "code",
   "execution_count": 258,
   "metadata": {},
   "outputs": [
    {
     "data": {
      "text/plain": [
       "DataFrame[userId: string, label: int, Female: int, PayRate: double, AFC: bigint, APC: bigint, DNC: bigint, UPC: bigint, ERC: bigint, HPC: bigint, HMC: bigint, TUC: bigint, TDC: bigint, TOTALC: bigint, AVG_ITEM: double, features: vector, rawPrediction: vector, probability: vector, prediction: double]"
      ]
     },
     "execution_count": 258,
     "metadata": {},
     "output_type": "execute_result"
    }
   ],
   "source": [
    "results"
   ]
  },
  {
   "cell_type": "code",
   "execution_count": 259,
   "metadata": {},
   "outputs": [
    {
     "name": "stdout",
     "output_type": "stream",
     "text": [
      "+-----+----------+-----+\n",
      "|label|prediction|count|\n",
      "+-----+----------+-----+\n",
      "|    1|       0.0|   10|\n",
      "|    0|       0.0|   24|\n",
      "|    1|       1.0|    1|\n",
      "|    0|       1.0|    1|\n",
      "+-----+----------+-----+\n",
      "\n",
      "+-----+----------+-----+\n",
      "|label|prediction|count|\n",
      "+-----+----------+-----+\n",
      "|    1|       0.0|   31|\n",
      "|    0|       0.0|  140|\n",
      "|    1|       1.0|   10|\n",
      "|    0|       1.0|    8|\n",
      "+-----+----------+-----+\n",
      "\n"
     ]
    }
   ],
   "source": [
    "results.select('label', 'prediction').groupBy('label', 'prediction').count().show()\n",
    "train_results.select('label', 'prediction').groupBy('label', 'prediction').count().show()"
   ]
  },
  {
   "cell_type": "code",
   "execution_count": 260,
   "metadata": {},
   "outputs": [
    {
     "name": "stdout",
     "output_type": "stream",
     "text": [
      "Test: Recall 0.09090909090909091, Precision 0.5, f1 0.15384615384615385, Accuracy 0.6944444444444444\n"
     ]
    }
   ],
   "source": [
    "# Validation Peformance\n",
    "tp, fp, fn, tn = 1, 1, 10, 24\n",
    "recall = tp/(tp+fn)\n",
    "precision = tp/(tp+fp)\n",
    "f1 = 2/(1/recall + 1/precision)\n",
    "acc = (tp+tn)/(tp+fp+fn+tn)\n",
    "print(\"Test: Recall {}, Precision {}, f1 {}, Accuracy {}\".format(recall, precision, f1, acc))"
   ]
  },
  {
   "cell_type": "code",
   "execution_count": 261,
   "metadata": {},
   "outputs": [
    {
     "name": "stdout",
     "output_type": "stream",
     "text": [
      "Train: Recall 0.24390243902439024, Precision 0.5555555555555556, f1 0.3389830508474576, Accuracy 0.7936507936507936\n"
     ]
    }
   ],
   "source": [
    "# Training data Performance to check overfitting\n",
    "tp2, fp2, fn2, tn2 = 10, 8, 31, 140\n",
    "recall2 = tp2/(tp2+fn2)\n",
    "precision2 = tp2/(tp2+fp2)\n",
    "f12 = 2/(1/recall2 + 1/precision2)\n",
    "acc2 = (tp2+tn2)/(tp2+fp2+fn2+tn2)\n",
    "print(\"Train: Recall {}, Precision {}, f1 {}, Accuracy {}\".format(recall2, precision2, f12, acc2))"
   ]
  },
  {
   "cell_type": "markdown",
   "metadata": {},
   "source": [
    "### Considering there are siginificant performance difference in train vs test, it is possible the model is overfitting, or the sample size is too small (especially the test)"
   ]
  },
  {
   "cell_type": "markdown",
   "metadata": {},
   "source": [
    "# Final Steps\n",
    "Clean up your code, adding comments and renaming variables to make the code easier to read and maintain. Refer to the Spark Project Overview page and Data Scientist Capstone Project Rubric to make sure you are including all components of the capstone project and meet all expectations. Remember, this includes thorough documentation in a README file in a Github repository, as well as a web app or blog post."
   ]
  },
  {
   "cell_type": "code",
   "execution_count": null,
   "metadata": {},
   "outputs": [],
   "source": []
  },
  {
   "cell_type": "code",
   "execution_count": null,
   "metadata": {},
   "outputs": [],
   "source": []
  },
  {
   "cell_type": "code",
   "execution_count": null,
   "metadata": {},
   "outputs": [],
   "source": []
  },
  {
   "cell_type": "code",
   "execution_count": null,
   "metadata": {},
   "outputs": [],
   "source": []
  }
 ],
 "metadata": {
  "kernelspec": {
   "display_name": "Python 3",
   "language": "python",
   "name": "python3"
  },
  "language_info": {
   "codemirror_mode": {
    "name": "ipython",
    "version": 3
   },
   "file_extension": ".py",
   "mimetype": "text/x-python",
   "name": "python",
   "nbconvert_exporter": "python",
   "pygments_lexer": "ipython3",
   "version": "3.7.3"
  }
 },
 "nbformat": 4,
 "nbformat_minor": 2
}
